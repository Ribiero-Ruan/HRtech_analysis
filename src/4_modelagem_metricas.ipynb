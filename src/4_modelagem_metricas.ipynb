{
 "cells": [
  {
   "cell_type": "markdown",
   "metadata": {},
   "source": [
    "# Dependências"
   ]
  },
  {
   "cell_type": "code",
   "execution_count": 1,
   "metadata": {
    "ExecuteTime": {
     "end_time": "2020-08-05T01:12:03.438606Z",
     "start_time": "2020-08-05T01:12:02.598217Z"
    }
   },
   "outputs": [],
   "source": [
    "#Importando bibliotecas\n",
    "import warnings \n",
    "warnings.filterwarnings('ignore')\n",
    "import os\n",
    "import pandas as pd\n",
    "import numpy as np\n",
    "import matplotlib.pyplot as plt\n",
    "import seaborn as sns\n",
    "import cloudpickle\n",
    "from sklearn.preprocessing import OrdinalEncoder\n",
    "from sklearn.ensemble import RandomForestClassifier \n",
    "from sklearn.model_selection import train_test_split\n",
    "from sklearn.impute import SimpleImputer \n",
    "from sklearn.pipeline import Pipeline\n",
    "from sklearn.compose import ColumnTransformer\n",
    "from yellowbrick.model_selection import LearningCurve\n",
    "from dependencias.modelagem_metricas import conveter_OnePre,conveter_EMP_Sat_Remote,conveter_EMP_Engagement,\\\n",
    "                                   conveter_Emp_Work_Status,conveter_Emp_Competitive,\\\n",
    "                                   conveter_Emp_Collaborative,preencher_missing_0, plot_metrics,\\\n",
    "                                   eval_thresh, naive_classifiers\n",
    "from sklearn.metrics import classification_report\n",
    "from sklearn.model_selection import cross_val_score, StratifiedKFold\n",
    "pd.set_option('display.max_rows', 500)\n",
    "pd.set_option('display.max_columns', 500)\n",
    "pd.set_option('display.width', 1000)\n",
    "%matplotlib inline"
   ]
  },
  {
   "cell_type": "code",
   "execution_count": 2,
   "metadata": {
    "ExecuteTime": {
     "end_time": "2020-08-05T01:12:03.794781Z",
     "start_time": "2020-08-05T01:12:03.789150Z"
    }
   },
   "outputs": [],
   "source": [
    "#Constantes\n",
    "DATA_RAW_PATH = os.path.join('..','data','raw')\n",
    "DATA_INTER_PATH = os.path.join('..','data','inter') \n",
    "DATA_INTER_TRAIN_A1 = 'train_inter_a1.csv'\n",
    "DATA_INTER_TRAIN_A2 = 'train_inter_a2.csv'\n",
    "DATA_INTER_TEST = 'test_inter.csv'\n",
    "MODEL_PATH = os.path.join('..','models')\n",
    "MODEL_NAME = 'modelo_demissao.pkl'\n",
    "IMG_PATH = os.path.abspath(os.path.join('..','img'))\n",
    "META_DATA_PATH_INTER = os.path.join(DATA_INTER_PATH,'dicionario_tipos_inter.pkl')"
   ]
  },
  {
   "cell_type": "code",
   "execution_count": 3,
   "metadata": {
    "ExecuteTime": {
     "end_time": "2020-08-05T01:12:05.835137Z",
     "start_time": "2020-08-05T01:12:05.830271Z"
    }
   },
   "outputs": [],
   "source": [
    "# Dados do dicionário salvo no pickle.\n",
    "with open(META_DATA_PATH_INTER,'rb') as f:\n",
    "    dicionario_tipo = cloudpickle.load(f)"
   ]
  },
  {
   "cell_type": "code",
   "execution_count": 4,
   "metadata": {
    "ExecuteTime": {
     "end_time": "2020-08-05T01:12:06.353166Z",
     "start_time": "2020-08-05T01:12:06.321816Z"
    }
   },
   "outputs": [],
   "source": [
    "# Dados que serão utilizados na modelagem (Com as features selecionadas da primeira abordagem: \n",
    "#Correlação + Chi2+ Boruta).\n",
    "df_train_A1 = pd.read_csv(os.path.join(DATA_INTER_PATH, DATA_INTER_TRAIN_A1),dtype=dicionario_tipo)"
   ]
  },
  {
   "cell_type": "code",
   "execution_count": 5,
   "metadata": {
    "ExecuteTime": {
     "end_time": "2020-08-05T01:12:07.444902Z",
     "start_time": "2020-08-05T01:12:07.420906Z"
    }
   },
   "outputs": [],
   "source": [
    "# Dados que serão utilizados na modelagem (Com as features selecionadas da primeira abordagem: Boruta)\n",
    "df_train_A2 = pd.read_csv(os.path.join(DATA_INTER_PATH, DATA_INTER_TRAIN_A2),dtype=dicionario_tipo)"
   ]
  },
  {
   "cell_type": "code",
   "execution_count": 6,
   "metadata": {
    "ExecuteTime": {
     "end_time": "2020-08-05T01:12:09.210251Z",
     "start_time": "2020-08-05T01:12:09.189912Z"
    }
   },
   "outputs": [],
   "source": [
    "df_test = pd.read_csv(os.path.join(DATA_INTER_PATH, DATA_INTER_TEST),dtype=dicionario_tipo)"
   ]
  },
  {
   "cell_type": "code",
   "execution_count": 7,
   "metadata": {
    "ExecuteTime": {
     "end_time": "2020-08-05T01:12:12.216076Z",
     "start_time": "2020-08-05T01:12:12.210001Z"
    }
   },
   "outputs": [
    {
     "data": {
      "text/plain": [
       "(3000, 50)"
      ]
     },
     "execution_count": 7,
     "metadata": {},
     "output_type": "execute_result"
    }
   ],
   "source": [
    "df_test.shape"
   ]
  },
  {
   "cell_type": "code",
   "execution_count": 8,
   "metadata": {
    "ExecuteTime": {
     "end_time": "2020-08-05T01:12:12.990440Z",
     "start_time": "2020-08-05T01:12:12.986735Z"
    }
   },
   "outputs": [
    {
     "data": {
      "text/plain": [
       "(11999, 20)"
      ]
     },
     "execution_count": 8,
     "metadata": {},
     "output_type": "execute_result"
    }
   ],
   "source": [
    "df_train_A2.shape"
   ]
  },
  {
   "cell_type": "code",
   "execution_count": 9,
   "metadata": {
    "ExecuteTime": {
     "end_time": "2020-08-05T01:12:15.098406Z",
     "start_time": "2020-08-05T01:12:15.094941Z"
    }
   },
   "outputs": [
    {
     "data": {
      "text/plain": [
       "(11999, 16)"
      ]
     },
     "execution_count": 9,
     "metadata": {},
     "output_type": "execute_result"
    }
   ],
   "source": [
    "df_train_A1.shape"
   ]
  },
  {
   "cell_type": "markdown",
   "metadata": {},
   "source": [
    "## Média das avaliações para os dados de teste. "
   ]
  },
  {
   "cell_type": "code",
   "execution_count": 10,
   "metadata": {
    "ExecuteTime": {
     "end_time": "2020-08-05T01:12:21.076600Z",
     "start_time": "2020-08-05T01:12:21.045787Z"
    }
   },
   "outputs": [],
   "source": [
    "#Média da avaliação One Pre\n",
    "df_test = conveter_OnePre(df_test)\n",
    "#Média da avaliação Remote\n",
    "df_test = conveter_EMP_Sat_Remote(df_test)\n",
    "#Média da avaliação de Engagement\n",
    "df_test = conveter_EMP_Engagement(df_test)\n",
    "##Média da avaliação Work\n",
    "df_test = conveter_Emp_Work_Status(df_test)\n",
    "#Média da avaliação Competitive\n",
    "df_test = conveter_Emp_Competitive(df_test)\n",
    "#Média da avaliaçãi Collaborative. \n",
    "df_test = conveter_Emp_Collaborative(df_test)"
   ]
  },
  {
   "cell_type": "markdown",
   "metadata": {},
   "source": [
    "## Preenchimento de missing das variáveis de teste"
   ]
  },
  {
   "cell_type": "code",
   "execution_count": 11,
   "metadata": {
    "ExecuteTime": {
     "end_time": "2020-08-05T01:13:04.322592Z",
     "start_time": "2020-08-05T01:13:04.316342Z"
    }
   },
   "outputs": [],
   "source": [
    "df_test = preencher_missing_0(df_test)"
   ]
  },
  {
   "cell_type": "code",
   "execution_count": 12,
   "metadata": {
    "ExecuteTime": {
     "end_time": "2020-08-05T01:13:07.077335Z",
     "start_time": "2020-08-05T01:13:07.074266Z"
    }
   },
   "outputs": [
    {
     "data": {
      "text/plain": [
       "(11999, 16)"
      ]
     },
     "execution_count": 12,
     "metadata": {},
     "output_type": "execute_result"
    }
   ],
   "source": [
    "df_train_A1.shape"
   ]
  },
  {
   "cell_type": "markdown",
   "metadata": {},
   "source": [
    "# Criando Pipeline"
   ]
  },
  {
   "cell_type": "markdown",
   "metadata": {},
   "source": [
    "## Pipe para df_train_A1"
   ]
  },
  {
   "cell_type": "code",
   "execution_count": 13,
   "metadata": {
    "ExecuteTime": {
     "end_time": "2020-08-05T01:13:10.034356Z",
     "start_time": "2020-08-05T01:13:10.027574Z"
    }
   },
   "outputs": [],
   "source": [
    "#Tratando as variaveis  \n",
    "variaveis_categoricas_A1 = df_train_A1.select_dtypes(include=['object']).columns.tolist()\n",
    "variaveis_numericas_A1 = df_train_A1.select_dtypes(include=['int','float']).columns.tolist()"
   ]
  },
  {
   "cell_type": "code",
   "execution_count": 14,
   "metadata": {
    "ExecuteTime": {
     "end_time": "2020-08-05T01:13:11.366517Z",
     "start_time": "2020-08-05T01:13:11.363874Z"
    }
   },
   "outputs": [],
   "source": [
    "target_A1 = 'left_Company'\n",
    "variaveis_categoricas_A1.remove(target_A1)"
   ]
  },
  {
   "cell_type": "code",
   "execution_count": 15,
   "metadata": {
    "ExecuteTime": {
     "end_time": "2020-08-05T01:13:14.101380Z",
     "start_time": "2020-08-05T01:13:14.097099Z"
    }
   },
   "outputs": [],
   "source": [
    "pipeline_numerico_A1 = Pipeline([('impute', SimpleImputer(strategy='median'))])\n",
    "pipeline_categorico_A1 = Pipeline([('impute', SimpleImputer(strategy='most_frequent')),\n",
    "                         ('ordinal_encoder', OrdinalEncoder())])"
   ]
  },
  {
   "cell_type": "code",
   "execution_count": 16,
   "metadata": {
    "ExecuteTime": {
     "end_time": "2020-08-05T01:13:16.701109Z",
     "start_time": "2020-08-05T01:13:16.696094Z"
    }
   },
   "outputs": [
    {
     "data": {
      "text/plain": [
       "['salary', 'Work_accident']"
      ]
     },
     "execution_count": 16,
     "metadata": {},
     "output_type": "execute_result"
    }
   ],
   "source": [
    "variaveis_categoricas_A1"
   ]
  },
  {
   "cell_type": "code",
   "execution_count": 17,
   "metadata": {
    "ExecuteTime": {
     "end_time": "2020-08-05T01:13:21.092992Z",
     "start_time": "2020-08-05T01:13:21.086999Z"
    }
   },
   "outputs": [
    {
     "data": {
      "text/plain": [
       "['EMP_Sat_OnPrem_mean',\n",
       " 'Emp_Identity',\n",
       " 'Emp_Position',\n",
       " 'number_project',\n",
       " 'EMP_Engagement_mean',\n",
       " 'Sensor_Heartbeat(Average/Min)',\n",
       " 'average_montly_hours',\n",
       " 'Emp_Role',\n",
       " 'time_spend_company',\n",
       " 'Emp_Title',\n",
       " 'EMP_Sat_Remote_mean',\n",
       " 'Emp_Competitive_mean',\n",
       " 'Sensor_StepCount']"
      ]
     },
     "execution_count": 17,
     "metadata": {},
     "output_type": "execute_result"
    }
   ],
   "source": [
    "variaveis_numericas_A1"
   ]
  },
  {
   "cell_type": "code",
   "execution_count": 18,
   "metadata": {
    "ExecuteTime": {
     "end_time": "2020-08-05T01:13:24.220485Z",
     "start_time": "2020-08-05T01:13:24.217898Z"
    }
   },
   "outputs": [],
   "source": [
    "preprocess_pipeline_A1 = ColumnTransformer([('pipe_categorico', pipeline_categorico_A1, variaveis_categoricas_A1),\n",
    "                                ('pipe_numerico', pipeline_numerico_A1 , variaveis_numericas_A1)])"
   ]
  },
  {
   "cell_type": "code",
   "execution_count": 19,
   "metadata": {
    "ExecuteTime": {
     "end_time": "2020-08-05T01:13:27.581895Z",
     "start_time": "2020-08-05T01:13:27.579401Z"
    }
   },
   "outputs": [],
   "source": [
    "# Definindo folds para a validação cruzada estratificada (dados desbalanceados)\n",
    "cv = StratifiedKFold(n_splits=5,shuffle=True, random_state=123)"
   ]
  },
  {
   "cell_type": "markdown",
   "metadata": {},
   "source": [
    "## df_train_A2"
   ]
  },
  {
   "cell_type": "code",
   "execution_count": 20,
   "metadata": {
    "ExecuteTime": {
     "end_time": "2020-08-05T01:13:31.001057Z",
     "start_time": "2020-08-05T01:13:30.994992Z"
    }
   },
   "outputs": [],
   "source": [
    "#Tratando as variaveis  \n",
    "variaveis_categoricas_A2 = df_train_A2.select_dtypes(include=['object']).columns.tolist()\n",
    "variaveis_numericas_A2 = df_train_A2.select_dtypes(include=['int','float']).columns.tolist()"
   ]
  },
  {
   "cell_type": "code",
   "execution_count": 21,
   "metadata": {
    "ExecuteTime": {
     "end_time": "2020-08-05T01:13:31.294211Z",
     "start_time": "2020-08-05T01:13:31.002491Z"
    }
   },
   "outputs": [],
   "source": [
    "target_A2 = 'left_Company'\n",
    "variaveis_categoricas_A2.remove(target_A2)"
   ]
  },
  {
   "cell_type": "code",
   "execution_count": 22,
   "metadata": {
    "ExecuteTime": {
     "end_time": "2020-08-05T01:13:31.546768Z",
     "start_time": "2020-08-05T01:13:31.295842Z"
    }
   },
   "outputs": [],
   "source": [
    "pipeline_numerico_A2 = Pipeline([('impute', SimpleImputer(strategy='median'))])\n",
    "pipeline_categorico_A2 = Pipeline([('impute', SimpleImputer(strategy='most_frequent')),\n",
    "                         ('ordinal_encoder', OrdinalEncoder())])"
   ]
  },
  {
   "cell_type": "code",
   "execution_count": 23,
   "metadata": {
    "ExecuteTime": {
     "end_time": "2020-08-05T01:13:42.270224Z",
     "start_time": "2020-08-05T01:13:42.267232Z"
    }
   },
   "outputs": [],
   "source": [
    "preprocess_pipeline_A2 = ColumnTransformer([('pipe_categorico', pipeline_categorico_A2, variaveis_categoricas_A2),\n",
    "                                ('pipe_numerico', pipeline_numerico_A2 , variaveis_numericas_A2)])"
   ]
  },
  {
   "cell_type": "code",
   "execution_count": 24,
   "metadata": {
    "ExecuteTime": {
     "end_time": "2020-08-05T01:13:45.950748Z",
     "start_time": "2020-08-05T01:13:45.948003Z"
    }
   },
   "outputs": [
    {
     "data": {
      "text/plain": [
       "['promotion_last_5years', 'Work_accident']"
      ]
     },
     "execution_count": 24,
     "metadata": {},
     "output_type": "execute_result"
    }
   ],
   "source": [
    "variaveis_categoricas_A2"
   ]
  },
  {
   "cell_type": "code",
   "execution_count": 25,
   "metadata": {
    "ExecuteTime": {
     "end_time": "2020-08-05T01:13:50.150982Z",
     "start_time": "2020-08-05T01:13:50.147704Z"
    }
   },
   "outputs": [
    {
     "data": {
      "text/plain": [
       "17"
      ]
     },
     "execution_count": 25,
     "metadata": {},
     "output_type": "execute_result"
    }
   ],
   "source": [
    "len(variaveis_numericas_A2)"
   ]
  },
  {
   "cell_type": "markdown",
   "metadata": {},
   "source": [
    "# Modelagem e Avaliação"
   ]
  },
  {
   "cell_type": "code",
   "execution_count": 26,
   "metadata": {
    "ExecuteTime": {
     "end_time": "2020-08-05T01:13:53.577319Z",
     "start_time": "2020-08-05T01:13:53.575270Z"
    }
   },
   "outputs": [],
   "source": [
    "rf = RandomForestClassifier(random_state=0)"
   ]
  },
  {
   "cell_type": "markdown",
   "metadata": {},
   "source": [
    "Vou basear a análise do modelo no recall, pois os Falsos Negativos (pessoas que o modelo disse que não se demitiram, mas que na verdade se demitiram) parecem ser mais danosos para a empresa. A escolha da métrica de avaliação, porém, é um passo importante do pipeline de modelagem e deve ser ajustada de acordo com as necessidades levantadas pelo cliente. Pode até mesmo ser uma métrica personalizada."
   ]
  },
  {
   "cell_type": "markdown",
   "metadata": {},
   "source": [
    "## df_train_A1"
   ]
  },
  {
   "cell_type": "code",
   "execution_count": 27,
   "metadata": {
    "ExecuteTime": {
     "end_time": "2020-08-05T01:13:57.494164Z",
     "start_time": "2020-08-05T01:13:57.491550Z"
    }
   },
   "outputs": [],
   "source": [
    "modelo_pipe_A1  =  Pipeline(steps = [('preprocessor',preprocess_pipeline_A1),\n",
    "                                  ('model',rf)])"
   ]
  },
  {
   "cell_type": "code",
   "execution_count": 28,
   "metadata": {
    "ExecuteTime": {
     "end_time": "2020-08-05T01:14:04.039489Z",
     "start_time": "2020-08-05T01:14:04.029538Z"
    }
   },
   "outputs": [],
   "source": [
    "# Obtendo X e Y para treinamento e teste\n",
    "X_A1 = df_train_A1.drop(target_A1,axis=1)\n",
    "y_A1 = df_train_A1[target_A1]\n",
    "X_A1_test = df_test.drop(target_A1, axis=1)\n",
    "y_A1_test = df_test[target_A1]\n",
    "#Convertendo o target para inteiro/treino.\n",
    "y_A1 = y_A1.apply(lambda x: int(x))\n",
    "#Convertendo o target para inteiro/teste.\n",
    "y_A1_test = df_test[target_A1].apply(lambda x: int(x))"
   ]
  },
  {
   "cell_type": "code",
   "execution_count": 29,
   "metadata": {
    "ExecuteTime": {
     "end_time": "2020-08-05T01:14:12.431893Z",
     "start_time": "2020-08-05T01:14:12.428016Z"
    }
   },
   "outputs": [
    {
     "data": {
      "text/plain": [
       "(3000, 28)"
      ]
     },
     "execution_count": 29,
     "metadata": {},
     "output_type": "execute_result"
    }
   ],
   "source": [
    "df_test.shape"
   ]
  },
  {
   "cell_type": "code",
   "execution_count": 30,
   "metadata": {
    "ExecuteTime": {
     "end_time": "2020-08-05T01:14:23.269421Z",
     "start_time": "2020-08-05T01:14:21.137348Z"
    }
   },
   "outputs": [
    {
     "name": "stdout",
     "output_type": "stream",
     "text": [
      "A média de validação cruzada foi: 1.0\n",
      "O desvio padrão de validação cruzada foi: 0.0\n"
     ]
    }
   ],
   "source": [
    "# Score de Validação Cruzada\n",
    "cross_validation_results_A1 = cross_val_score(modelo_pipe_A1,X_A1,y_A1, scoring = 'recall')\n",
    "print(f'A média de validação cruzada foi: {round(np.mean(cross_validation_results_A1),2)}\\nO desvio padrão de validação cruzada foi: {round(np.std(cross_validation_results_A1),2)}')"
   ]
  },
  {
   "cell_type": "code",
   "execution_count": 31,
   "metadata": {
    "ExecuteTime": {
     "end_time": "2020-08-05T01:14:32.693227Z",
     "start_time": "2020-08-05T01:14:32.666424Z"
    }
   },
   "outputs": [
    {
     "data": {
      "text/html": [
       "<div>\n",
       "<style scoped>\n",
       "    .dataframe tbody tr th:only-of-type {\n",
       "        vertical-align: middle;\n",
       "    }\n",
       "\n",
       "    .dataframe tbody tr th {\n",
       "        vertical-align: top;\n",
       "    }\n",
       "\n",
       "    .dataframe thead th {\n",
       "        text-align: right;\n",
       "    }\n",
       "</style>\n",
       "<table border=\"1\" class=\"dataframe\">\n",
       "  <thead>\n",
       "    <tr style=\"text-align: right;\">\n",
       "      <th></th>\n",
       "      <th>EMP_Sat_OnPrem_mean</th>\n",
       "      <th>Emp_Identity</th>\n",
       "      <th>Emp_Position</th>\n",
       "      <th>number_project</th>\n",
       "      <th>EMP_Engagement_mean</th>\n",
       "      <th>Sensor_Heartbeat(Average/Min)</th>\n",
       "      <th>average_montly_hours</th>\n",
       "      <th>Emp_Role</th>\n",
       "      <th>time_spend_company</th>\n",
       "      <th>Emp_Title</th>\n",
       "      <th>EMP_Sat_Remote_mean</th>\n",
       "      <th>Emp_Competitive_mean</th>\n",
       "      <th>Sensor_StepCount</th>\n",
       "      <th>salary</th>\n",
       "      <th>Work_accident</th>\n",
       "    </tr>\n",
       "  </thead>\n",
       "  <tbody>\n",
       "    <tr>\n",
       "      <th>0</th>\n",
       "      <td>1.8</td>\n",
       "      <td>1</td>\n",
       "      <td>1</td>\n",
       "      <td>5</td>\n",
       "      <td>4.2</td>\n",
       "      <td>78</td>\n",
       "      <td>234</td>\n",
       "      <td>1</td>\n",
       "      <td>2</td>\n",
       "      <td>2</td>\n",
       "      <td>4.2</td>\n",
       "      <td>3.0</td>\n",
       "      <td>2548</td>\n",
       "      <td>medium</td>\n",
       "      <td>1</td>\n",
       "    </tr>\n",
       "    <tr>\n",
       "      <th>1</th>\n",
       "      <td>3.5</td>\n",
       "      <td>2</td>\n",
       "      <td>2</td>\n",
       "      <td>5</td>\n",
       "      <td>1.8</td>\n",
       "      <td>85</td>\n",
       "      <td>265</td>\n",
       "      <td>2</td>\n",
       "      <td>5</td>\n",
       "      <td>1</td>\n",
       "      <td>4.2</td>\n",
       "      <td>3.0</td>\n",
       "      <td>1514</td>\n",
       "      <td>medium</td>\n",
       "      <td>0</td>\n",
       "    </tr>\n",
       "    <tr>\n",
       "      <th>2</th>\n",
       "      <td>3.5</td>\n",
       "      <td>2</td>\n",
       "      <td>3</td>\n",
       "      <td>3</td>\n",
       "      <td>4.2</td>\n",
       "      <td>70</td>\n",
       "      <td>137</td>\n",
       "      <td>4</td>\n",
       "      <td>5</td>\n",
       "      <td>2</td>\n",
       "      <td>4.2</td>\n",
       "      <td>2.4</td>\n",
       "      <td>4980</td>\n",
       "      <td>low</td>\n",
       "      <td>0</td>\n",
       "    </tr>\n",
       "    <tr>\n",
       "      <th>3</th>\n",
       "      <td>3.5</td>\n",
       "      <td>3</td>\n",
       "      <td>3</td>\n",
       "      <td>5</td>\n",
       "      <td>4.2</td>\n",
       "      <td>78</td>\n",
       "      <td>222</td>\n",
       "      <td>3</td>\n",
       "      <td>2</td>\n",
       "      <td>2</td>\n",
       "      <td>4.2</td>\n",
       "      <td>2.4</td>\n",
       "      <td>5953</td>\n",
       "      <td>low</td>\n",
       "      <td>0</td>\n",
       "    </tr>\n",
       "    <tr>\n",
       "      <th>4</th>\n",
       "      <td>3.5</td>\n",
       "      <td>2</td>\n",
       "      <td>3</td>\n",
       "      <td>5</td>\n",
       "      <td>4.2</td>\n",
       "      <td>80</td>\n",
       "      <td>232</td>\n",
       "      <td>3</td>\n",
       "      <td>4</td>\n",
       "      <td>3</td>\n",
       "      <td>4.2</td>\n",
       "      <td>2.8</td>\n",
       "      <td>5447</td>\n",
       "      <td>low</td>\n",
       "      <td>0</td>\n",
       "    </tr>\n",
       "    <tr>\n",
       "      <th>...</th>\n",
       "      <td>...</td>\n",
       "      <td>...</td>\n",
       "      <td>...</td>\n",
       "      <td>...</td>\n",
       "      <td>...</td>\n",
       "      <td>...</td>\n",
       "      <td>...</td>\n",
       "      <td>...</td>\n",
       "      <td>...</td>\n",
       "      <td>...</td>\n",
       "      <td>...</td>\n",
       "      <td>...</td>\n",
       "      <td>...</td>\n",
       "      <td>...</td>\n",
       "      <td>...</td>\n",
       "    </tr>\n",
       "    <tr>\n",
       "      <th>11994</th>\n",
       "      <td>3.5</td>\n",
       "      <td>4</td>\n",
       "      <td>3</td>\n",
       "      <td>3</td>\n",
       "      <td>4.2</td>\n",
       "      <td>72</td>\n",
       "      <td>139</td>\n",
       "      <td>2</td>\n",
       "      <td>2</td>\n",
       "      <td>3</td>\n",
       "      <td>4.2</td>\n",
       "      <td>3.2</td>\n",
       "      <td>5958</td>\n",
       "      <td>medium</td>\n",
       "      <td>0</td>\n",
       "    </tr>\n",
       "    <tr>\n",
       "      <th>11995</th>\n",
       "      <td>3.5</td>\n",
       "      <td>3</td>\n",
       "      <td>2</td>\n",
       "      <td>4</td>\n",
       "      <td>4.2</td>\n",
       "      <td>78</td>\n",
       "      <td>177</td>\n",
       "      <td>4</td>\n",
       "      <td>2</td>\n",
       "      <td>2</td>\n",
       "      <td>4.2</td>\n",
       "      <td>2.6</td>\n",
       "      <td>5599</td>\n",
       "      <td>high</td>\n",
       "      <td>0</td>\n",
       "    </tr>\n",
       "    <tr>\n",
       "      <th>11996</th>\n",
       "      <td>3.8</td>\n",
       "      <td>1</td>\n",
       "      <td>1</td>\n",
       "      <td>2</td>\n",
       "      <td>1.8</td>\n",
       "      <td>74</td>\n",
       "      <td>135</td>\n",
       "      <td>1</td>\n",
       "      <td>3</td>\n",
       "      <td>1</td>\n",
       "      <td>2.4</td>\n",
       "      <td>1.6</td>\n",
       "      <td>1734</td>\n",
       "      <td>low</td>\n",
       "      <td>0</td>\n",
       "    </tr>\n",
       "    <tr>\n",
       "      <th>11997</th>\n",
       "      <td>3.5</td>\n",
       "      <td>2</td>\n",
       "      <td>4</td>\n",
       "      <td>5</td>\n",
       "      <td>4.2</td>\n",
       "      <td>72</td>\n",
       "      <td>199</td>\n",
       "      <td>2</td>\n",
       "      <td>4</td>\n",
       "      <td>4</td>\n",
       "      <td>4.2</td>\n",
       "      <td>3.6</td>\n",
       "      <td>5362</td>\n",
       "      <td>medium</td>\n",
       "      <td>0</td>\n",
       "    </tr>\n",
       "    <tr>\n",
       "      <th>11998</th>\n",
       "      <td>3.5</td>\n",
       "      <td>3</td>\n",
       "      <td>2</td>\n",
       "      <td>3</td>\n",
       "      <td>4.2</td>\n",
       "      <td>87</td>\n",
       "      <td>200</td>\n",
       "      <td>2</td>\n",
       "      <td>2</td>\n",
       "      <td>3</td>\n",
       "      <td>4.2</td>\n",
       "      <td>3.0</td>\n",
       "      <td>4884</td>\n",
       "      <td>low</td>\n",
       "      <td>0</td>\n",
       "    </tr>\n",
       "  </tbody>\n",
       "</table>\n",
       "<p>11999 rows × 15 columns</p>\n",
       "</div>"
      ],
      "text/plain": [
       "       EMP_Sat_OnPrem_mean  Emp_Identity  Emp_Position  number_project  EMP_Engagement_mean  Sensor_Heartbeat(Average/Min)  average_montly_hours  Emp_Role  time_spend_company  Emp_Title  EMP_Sat_Remote_mean  Emp_Competitive_mean  Sensor_StepCount  salary Work_accident\n",
       "0                      1.8             1             1               5                  4.2                             78                   234         1                   2          2                  4.2                   3.0              2548  medium             1\n",
       "1                      3.5             2             2               5                  1.8                             85                   265         2                   5          1                  4.2                   3.0              1514  medium             0\n",
       "2                      3.5             2             3               3                  4.2                             70                   137         4                   5          2                  4.2                   2.4              4980     low             0\n",
       "3                      3.5             3             3               5                  4.2                             78                   222         3                   2          2                  4.2                   2.4              5953     low             0\n",
       "4                      3.5             2             3               5                  4.2                             80                   232         3                   4          3                  4.2                   2.8              5447     low             0\n",
       "...                    ...           ...           ...             ...                  ...                            ...                   ...       ...                 ...        ...                  ...                   ...               ...     ...           ...\n",
       "11994                  3.5             4             3               3                  4.2                             72                   139         2                   2          3                  4.2                   3.2              5958  medium             0\n",
       "11995                  3.5             3             2               4                  4.2                             78                   177         4                   2          2                  4.2                   2.6              5599    high             0\n",
       "11996                  3.8             1             1               2                  1.8                             74                   135         1                   3          1                  2.4                   1.6              1734     low             0\n",
       "11997                  3.5             2             4               5                  4.2                             72                   199         2                   4          4                  4.2                   3.6              5362  medium             0\n",
       "11998                  3.5             3             2               3                  4.2                             87                   200         2                   2          3                  4.2                   3.0              4884     low             0\n",
       "\n",
       "[11999 rows x 15 columns]"
      ]
     },
     "execution_count": 31,
     "metadata": {},
     "output_type": "execute_result"
    }
   ],
   "source": [
    "X_A1"
   ]
  },
  {
   "cell_type": "code",
   "execution_count": 32,
   "metadata": {
    "ExecuteTime": {
     "end_time": "2020-08-05T01:14:43.282924Z",
     "start_time": "2020-08-05T01:14:42.564878Z"
    }
   },
   "outputs": [],
   "source": [
    "# treinando\n",
    "modelo_pipe_A1.fit(X_A1, y_A1)\n",
    "#Predict_proba para classe 1 - Treinamento.\n",
    "y_proba_A1 = modelo_pipe_A1.predict_proba(X_A1)[:,1]\n",
    "#Previsões para o teste.\n",
    "y_proba_A1_test = modelo_pipe_A1.predict_proba(X_A1_test)[:,1]"
   ]
  },
  {
   "cell_type": "code",
   "execution_count": 33,
   "metadata": {
    "ExecuteTime": {
     "end_time": "2020-08-05T01:15:28.979428Z",
     "start_time": "2020-08-05T01:14:52.853547Z"
    }
   },
   "outputs": [],
   "source": [
    "#Variando Threshold para avaliar Recall Precision e f1_score do treino.\n",
    "df_metrics_train_A1 = eval_thresh(y_real = y_A1, y_proba = y_proba_A1)\n",
    "#Variando Threshold para avaliar Recall Precision e f1_score do teste.\n",
    "df_metrics_test_A1 = eval_thresh(y_real = y_A1_test, y_proba = y_proba_A1_test)"
   ]
  },
  {
   "cell_type": "code",
   "execution_count": 34,
   "metadata": {
    "ExecuteTime": {
     "end_time": "2020-08-05T01:15:39.576987Z",
     "start_time": "2020-08-05T01:15:39.276362Z"
    }
   },
   "outputs": [
    {
     "data": {
      "image/png": "[encoded data removed]",
      "text/plain": [
       "<Figure size 432x288 with 1 Axes>"
      ]
     },
     "metadata": {
      "needs_background": "light"
     },
     "output_type": "display_data"
    },
    {
     "data": {
      "text/plain": [
       "<Figure size 432x288 with 0 Axes>"
      ]
     },
     "metadata": {},
     "output_type": "display_data"
    }
   ],
   "source": [
    "##plot das métricas que estão no dataframe df (métricas vs thresholds), dos dados de treino A1 \n",
    "plot_metrics(df_metrics_train_A1)\n",
    "plt.savefig(os.path.join(IMG_PATH,'metrica_vs_thesholds_treino_A1.png'), format='png')"
   ]
  },
  {
   "cell_type": "code",
   "execution_count": 35,
   "metadata": {
    "ExecuteTime": {
     "end_time": "2020-08-05T01:15:49.785991Z",
     "start_time": "2020-08-05T01:15:49.602054Z"
    }
   },
   "outputs": [
    {
     "data": {
      "image/png": "[encoded data removed]",
      "text/plain": [
       "<Figure size 432x288 with 1 Axes>"
      ]
     },
     "metadata": {
      "needs_background": "light"
     },
     "output_type": "display_data"
    }
   ],
   "source": [
    "#plot das métricas que estão no dataframe df (métricas vs thresholds), dos dados de teste A1.\n",
    "plt.savefig(os.path.join(IMG_PATH,'metrica_vs_thesholds_teste_A1.png'), format='png')\n",
    "plot_metrics(df_metrics_test_A1)"
   ]
  },
  {
   "cell_type": "code",
   "execution_count": 36,
   "metadata": {
    "ExecuteTime": {
     "end_time": "2020-08-05T01:15:59.075551Z",
     "start_time": "2020-08-05T01:15:59.036330Z"
    }
   },
   "outputs": [
    {
     "name": "stdout",
     "output_type": "stream",
     "text": [
      "Resultados para o Teste\n",
      "\n",
      "              precision    recall  f1-score   support\n",
      "\n",
      "           0       1.00      1.00      1.00      2286\n",
      "           1       1.00      1.00      1.00       714\n",
      "\n",
      "    accuracy                           1.00      3000\n",
      "   macro avg       1.00      1.00      1.00      3000\n",
      "weighted avg       1.00      1.00      1.00      3000\n",
      "\n"
     ]
    }
   ],
   "source": [
    "print('Resultados para o Teste\\n')\n",
    "print(classification_report(y_A1_test, modelo_pipe_A1.predict(X_A1_test)))"
   ]
  },
  {
   "cell_type": "code",
   "execution_count": 37,
   "metadata": {
    "ExecuteTime": {
     "end_time": "2020-08-05T01:16:08.595773Z",
     "start_time": "2020-08-05T01:16:08.485642Z"
    }
   },
   "outputs": [
    {
     "name": "stdout",
     "output_type": "stream",
     "text": [
      "Resultados para o Treino\n",
      "\n",
      "              precision    recall  f1-score   support\n",
      "\n",
      "           0       1.00      1.00      1.00      9142\n",
      "           1       1.00      1.00      1.00      2857\n",
      "\n",
      "    accuracy                           1.00     11999\n",
      "   macro avg       1.00      1.00      1.00     11999\n",
      "weighted avg       1.00      1.00      1.00     11999\n",
      "\n"
     ]
    }
   ],
   "source": [
    "print('Resultados para o Treino\\n')\n",
    "print(classification_report(y_A1, modelo_pipe_A1.predict(X_A1)))"
   ]
  },
  {
   "cell_type": "markdown",
   "metadata": {},
   "source": [
    "## df_train_A2"
   ]
  },
  {
   "cell_type": "code",
   "execution_count": 38,
   "metadata": {
    "ExecuteTime": {
     "end_time": "2020-08-05T01:16:18.450312Z",
     "start_time": "2020-08-05T01:16:18.446791Z"
    }
   },
   "outputs": [],
   "source": [
    "modelo_pipe_A2  =  Pipeline(steps = [('preprocessor',preprocess_pipeline_A2),\n",
    "                                  ('model',rf)])"
   ]
  },
  {
   "cell_type": "code",
   "execution_count": 39,
   "metadata": {
    "ExecuteTime": {
     "end_time": "2020-08-05T01:16:31.540383Z",
     "start_time": "2020-08-05T01:16:31.527720Z"
    }
   },
   "outputs": [],
   "source": [
    "# Obtendo X e Y para treinamento e teste\n",
    "X_A2 = df_train_A2.drop(target_A2,axis=1)\n",
    "y_A2 = df_train_A2[target_A2]\n",
    "X_A2_test = df_test.drop(target_A2, axis=1)\n",
    "y_A2_test = df_test[target_A2]\n",
    "#Convertendo o target para inteiro/treino.\n",
    "y_A2 = y_A2.apply(lambda x: int(x))\n",
    "#Convertendo o target para inteiro/teste.\n",
    "y_A2_test = y_A2_test.apply(lambda x: int(x))"
   ]
  },
  {
   "cell_type": "code",
   "execution_count": 40,
   "metadata": {
    "ExecuteTime": {
     "end_time": "2020-08-05T01:16:47.528578Z",
     "start_time": "2020-08-05T01:16:45.491577Z"
    }
   },
   "outputs": [
    {
     "name": "stdout",
     "output_type": "stream",
     "text": [
      "A média de validação cruzada foi: 1.0\n",
      "O desvio padrão de validação cruzada foi: 0.0\n"
     ]
    }
   ],
   "source": [
    "# Score de Validação Cruzada\n",
    "cross_validation_results_A2 = cross_val_score(modelo_pipe_A2,X_A2,y_A2, scoring = 'recall')\n",
    "print(f'A média de validação cruzada foi: {round(np.mean(cross_validation_results_A2),2)}\\nO desvio padrão de validação cruzada foi: {round(np.std(cross_validation_results_A2),2)}')"
   ]
  },
  {
   "cell_type": "code",
   "execution_count": 41,
   "metadata": {
    "ExecuteTime": {
     "end_time": "2020-08-05T01:17:01.118334Z",
     "start_time": "2020-08-05T01:17:00.595324Z"
    }
   },
   "outputs": [
    {
     "data": {
      "text/plain": [
       "Pipeline(memory=None,\n",
       "         steps=[('preprocessor',\n",
       "                 ColumnTransformer(n_jobs=None, remainder='drop',\n",
       "                                   sparse_threshold=0.3,\n",
       "                                   transformer_weights=None,\n",
       "                                   transformers=[('pipe_categorico',\n",
       "                                                  Pipeline(memory=None,\n",
       "                                                           steps=[('impute',\n",
       "                                                                   SimpleImputer(add_indicator=False,\n",
       "                                                                                 copy=True,\n",
       "                                                                                 fill_value=None,\n",
       "                                                                                 missing_values=nan,\n",
       "                                                                                 strategy='most_frequent',\n",
       "                                                                                 verbose=0)),\n",
       "                                                                  ('ordinal_encoder',\n",
       "                                                                   Ordinal...\n",
       "                 RandomForestClassifier(bootstrap=True, ccp_alpha=0.0,\n",
       "                                        class_weight=None, criterion='gini',\n",
       "                                        max_depth=None, max_features='auto',\n",
       "                                        max_leaf_nodes=None, max_samples=None,\n",
       "                                        min_impurity_decrease=0.0,\n",
       "                                        min_impurity_split=None,\n",
       "                                        min_samples_leaf=1, min_samples_split=2,\n",
       "                                        min_weight_fraction_leaf=0.0,\n",
       "                                        n_estimators=100, n_jobs=None,\n",
       "                                        oob_score=False, random_state=0,\n",
       "                                        verbose=0, warm_start=False))],\n",
       "         verbose=False)"
      ]
     },
     "execution_count": 41,
     "metadata": {},
     "output_type": "execute_result"
    }
   ],
   "source": [
    "modelo_pipe_A2.fit(X_A2,y_A2)"
   ]
  },
  {
   "cell_type": "code",
   "execution_count": 42,
   "metadata": {
    "ExecuteTime": {
     "end_time": "2020-08-05T01:17:14.452449Z",
     "start_time": "2020-08-05T01:17:14.329434Z"
    }
   },
   "outputs": [],
   "source": [
    "#Predict_proba para classe 1 - Treinamento.\n",
    "y_proba_A2 = modelo_pipe_A2.predict_proba(X_A2)[:,1]\n",
    "y_proba_A2_test = modelo_pipe_A2.predict_proba(X_A2_test)"
   ]
  },
  {
   "cell_type": "code",
   "execution_count": 43,
   "metadata": {
    "ExecuteTime": {
     "end_time": "2020-08-05T01:17:59.137433Z",
     "start_time": "2020-08-05T01:17:27.624283Z"
    }
   },
   "outputs": [],
   "source": [
    "#Variando Threshold para avaliar Recall Precision e f1_score do treino.\n",
    "df_metrics_train_A2 = eval_thresh(y_real = y_A2, y_proba = y_proba_A2)\n",
    "#Variando Threshold para avaliar Recall Precision e f1_score do teste.\n",
    "df_metrics_test_A2 = eval_thresh(y_real = y_A2_test, y_proba = y_proba_A2_test[:,1])"
   ]
  },
  {
   "cell_type": "code",
   "execution_count": 44,
   "metadata": {
    "ExecuteTime": {
     "end_time": "2020-08-05T01:18:14.370510Z",
     "start_time": "2020-08-05T01:18:14.180510Z"
    }
   },
   "outputs": [
    {
     "data": {
      "image/png": "[encoded data removed]",
      "text/plain": [
       "<Figure size 432x288 with 1 Axes>"
      ]
     },
     "metadata": {
      "needs_background": "light"
     },
     "output_type": "display_data"
    },
    {
     "data": {
      "text/plain": [
       "<Figure size 432x288 with 0 Axes>"
      ]
     },
     "metadata": {},
     "output_type": "display_data"
    }
   ],
   "source": [
    "#plot das métricas que estão no dataframe df (métricas vs thresholds), dos dados de treino A2.\n",
    "plot_metrics(df_metrics_train_A2)\n",
    "plt.savefig(os.path.join(IMG_PATH,'metrica_vs_thesholds_traino_A2.png'), format='png')"
   ]
  },
  {
   "cell_type": "code",
   "execution_count": 45,
   "metadata": {
    "ExecuteTime": {
     "end_time": "2020-08-05T01:18:29.380389Z",
     "start_time": "2020-08-05T01:18:29.207712Z"
    }
   },
   "outputs": [
    {
     "data": {
      "image/png": "[encoded data removed]",
      "text/plain": [
       "<Figure size 432x288 with 1 Axes>"
      ]
     },
     "metadata": {
      "needs_background": "light"
     },
     "output_type": "display_data"
    },
    {
     "data": {
      "text/plain": [
       "<Figure size 432x288 with 0 Axes>"
      ]
     },
     "metadata": {},
     "output_type": "display_data"
    }
   ],
   "source": [
    "##plot das métricas que estão no dataframe df (métricas vs thresholds), dos dados de teste A2. \n",
    "plot_metrics(df_metrics_test_A2)\n",
    "plt.savefig(os.path.join(IMG_PATH,'metrica_vs_thesholds_teste_A2.png'), format='png')"
   ]
  },
  {
   "cell_type": "code",
   "execution_count": 46,
   "metadata": {
    "ExecuteTime": {
     "end_time": "2020-08-05T01:18:43.116013Z",
     "start_time": "2020-08-05T01:18:43.028075Z"
    }
   },
   "outputs": [
    {
     "name": "stdout",
     "output_type": "stream",
     "text": [
      "              precision    recall  f1-score   support\n",
      "\n",
      "           0       1.00      1.00      1.00      9142\n",
      "           1       1.00      1.00      1.00      2857\n",
      "\n",
      "    accuracy                           1.00     11999\n",
      "   macro avg       1.00      1.00      1.00     11999\n",
      "weighted avg       1.00      1.00      1.00     11999\n",
      "\n"
     ]
    }
   ],
   "source": [
    "print(classification_report(y_A2, modelo_pipe_A2.predict(X_A2)))"
   ]
  },
  {
   "cell_type": "code",
   "execution_count": 47,
   "metadata": {
    "ExecuteTime": {
     "end_time": "2020-08-05T01:18:56.190996Z",
     "start_time": "2020-08-05T01:18:56.154461Z"
    }
   },
   "outputs": [
    {
     "name": "stdout",
     "output_type": "stream",
     "text": [
      "              precision    recall  f1-score   support\n",
      "\n",
      "           0       1.00      1.00      1.00      2286\n",
      "           1       1.00      1.00      1.00       714\n",
      "\n",
      "    accuracy                           1.00      3000\n",
      "   macro avg       1.00      1.00      1.00      3000\n",
      "weighted avg       1.00      1.00      1.00      3000\n",
      "\n"
     ]
    }
   ],
   "source": [
    "print(classification_report(y_A2_test, modelo_pipe_A2.predict(X_A2_test)))"
   ]
  },
  {
   "cell_type": "markdown",
   "metadata": {},
   "source": [
    "## Classificadores Naive"
   ]
  },
  {
   "cell_type": "code",
   "execution_count": 48,
   "metadata": {
    "ExecuteTime": {
     "end_time": "2020-08-05T01:19:10.607812Z",
     "start_time": "2020-08-05T01:19:10.602941Z"
    }
   },
   "outputs": [],
   "source": [
    "# Dados da abordagem 1\n",
    "df_test[target_A1] = df_test[target_A1].astype('int')\n",
    "df_train_A1[target_A1] = df_train_A1[target_A1].astype('int')"
   ]
  },
  {
   "cell_type": "code",
   "execution_count": 49,
   "metadata": {
    "ExecuteTime": {
     "end_time": "2020-08-05T01:19:25.333216Z",
     "start_time": "2020-08-05T01:19:25.260499Z"
    }
   },
   "outputs": [
    {
     "data": {
      "text/html": [
       "<div>\n",
       "<style scoped>\n",
       "    .dataframe tbody tr th:only-of-type {\n",
       "        vertical-align: middle;\n",
       "    }\n",
       "\n",
       "    .dataframe tbody tr th {\n",
       "        vertical-align: top;\n",
       "    }\n",
       "\n",
       "    .dataframe thead th {\n",
       "        text-align: right;\n",
       "    }\n",
       "</style>\n",
       "<table border=\"1\" class=\"dataframe\">\n",
       "  <thead>\n",
       "    <tr style=\"text-align: right;\">\n",
       "      <th></th>\n",
       "      <th>constant</th>\n",
       "      <th>most_frequent</th>\n",
       "      <th>stratified</th>\n",
       "      <th>uniform</th>\n",
       "    </tr>\n",
       "  </thead>\n",
       "  <tbody>\n",
       "    <tr>\n",
       "      <th>recall_test</th>\n",
       "      <td>1.000000</td>\n",
       "      <td>0.0</td>\n",
       "      <td>0.229692</td>\n",
       "      <td>0.515406</td>\n",
       "    </tr>\n",
       "    <tr>\n",
       "      <th>recall_train</th>\n",
       "      <td>1.000000</td>\n",
       "      <td>0.0</td>\n",
       "      <td>0.235912</td>\n",
       "      <td>0.510326</td>\n",
       "    </tr>\n",
       "    <tr>\n",
       "      <th>precision_train</th>\n",
       "      <td>0.238103</td>\n",
       "      <td>0.0</td>\n",
       "      <td>0.239177</td>\n",
       "      <td>0.239056</td>\n",
       "    </tr>\n",
       "    <tr>\n",
       "      <th>precision_test</th>\n",
       "      <td>0.238000</td>\n",
       "      <td>0.0</td>\n",
       "      <td>0.218959</td>\n",
       "      <td>0.238496</td>\n",
       "    </tr>\n",
       "    <tr>\n",
       "      <th>f1_train</th>\n",
       "      <td>0.384626</td>\n",
       "      <td>0.0</td>\n",
       "      <td>0.237533</td>\n",
       "      <td>0.325592</td>\n",
       "    </tr>\n",
       "    <tr>\n",
       "      <th>f1_test</th>\n",
       "      <td>0.384491</td>\n",
       "      <td>0.0</td>\n",
       "      <td>0.224197</td>\n",
       "      <td>0.326097</td>\n",
       "    </tr>\n",
       "  </tbody>\n",
       "</table>\n",
       "</div>"
      ],
      "text/plain": [
       "                 constant  most_frequent  stratified   uniform\n",
       "recall_test      1.000000            0.0    0.229692  0.515406\n",
       "recall_train     1.000000            0.0    0.235912  0.510326\n",
       "precision_train  0.238103            0.0    0.239177  0.239056\n",
       "precision_test   0.238000            0.0    0.218959  0.238496\n",
       "f1_train         0.384626            0.0    0.237533  0.325592\n",
       "f1_test          0.384491            0.0    0.224197  0.326097"
      ]
     },
     "execution_count": 49,
     "metadata": {},
     "output_type": "execute_result"
    }
   ],
   "source": [
    "df_naive_A1 = naive_classifiers(df_train_A1, df_test, target = target_A1)\n",
    "df_naive_A1"
   ]
  },
  {
   "cell_type": "markdown",
   "metadata": {},
   "source": [
    "Podemos observar que os naive models são bem ruins na previsão. Mas são o baseline mais simples para batermos inicialmente. Se nosso modelo for pior que isso, não vale a pena construir um modelo. Nesse caso, superamos com folga o baseline."
   ]
  },
  {
   "cell_type": "markdown",
   "metadata": {},
   "source": [
    "# Avaliação dos métodos utilizados. "
   ]
  },
  {
   "cell_type": "markdown",
   "metadata": {
    "ExecuteTime": {
     "end_time": "2020-08-04T19:44:37.564223Z",
     "start_time": "2020-08-04T19:44:37.557768Z"
    }
   },
   "source": [
    "A primeira abordagem (df_train_A1) utilizou variáveis filtradas pelos métodos de Correlação (pearson) + Chi2 + Boruta.\n",
    "Este mostrou-se muito eficaz para a previsão do target, tanto nos dados de treino como nos dados de teste, sem indício de overfitting,\n",
    "trazendo um precision, recall e f1-score \"perfeitos\". Nesse caso, as curvas de precision, recall e f1 versus \n",
    "o threshold de classificação não nos trás um ponto de corte \"ideal\".\n",
    "\n",
    "A segunda abordagem, por sua vez, trouxe apenas variaǘeis selecionadas com o boruta. Da mesma maneira,\n",
    "o modelo performou muito bem tanto nos dados de treino, como nos de teste, o que não nos da indício de overfitting.\n"
   ]
  },
  {
   "cell_type": "markdown",
   "metadata": {},
   "source": [
    "Dado que o modelo da abordagem 1 é mais simples (menos features), ele seria priorizado, uma vez que é menos complexo."
   ]
  },
  {
   "cell_type": "markdown",
   "metadata": {},
   "source": [
    "PONTO DE ATENÇÃO 1: Não houve \"tunagem\" de hiperparâmetros, o que poderia ser feito com GridSearch (força bruta ao longo de uma \"tabela\" de parâmetros definida), RandomizedSearch (com a busca aleatória a partir de n iterações em uma \"tabela de parâmetros definida) ou até mesmo uma otimização bayesiana. Não realizei a tunagem aqui, pois o modelo parece não overfitar.\n",
    "\n",
    "PONTO DE ATENÇÃO 2: Toda a análise exploratória foi realizada nos dados de treino, para evitar data leakage. A variável `Emp_Engagement_mean` apresenta correlação de 1 (perfeita, avalida apenas nos dados de treino) com o target. Dessa maneira, já era esperado que o modelo conseguisse prever perfeitamente, pelo menos os dados de treino. Contudo, dado que estamos lidando com comportamento humano, é curioso que uma única variável tenha correlação perfeita com a variável resposta. Vale salientar que isso pode ser fruto de um vazamento de dados, ou seja, a variável pode ser futura, por exemplo. Falta mais informações para concluirmos que isso de fato ocorreu.\n",
    "\n",
    "PONTO DE ATENÇÃO 3: Se fôssemos produtizar esse modelo, eu recomendaria remover essa variável, pelo menos inicialmente, ou disponibilizá-lo apenas para um pequeno público, para efeitos de teste, e então somente depois da análise, teste A/B, por exemplo, rolaríamos o modelo para toda a base disponível."
   ]
  },
  {
   "cell_type": "code",
   "execution_count": 50,
   "metadata": {
    "ExecuteTime": {
     "end_time": "2020-08-05T01:19:39.964181Z",
     "start_time": "2020-08-05T01:19:39.955658Z"
    }
   },
   "outputs": [],
   "source": [
    "# iremos exportar o modelo escolhido\n",
    "# Salvando o novo dicionario como pickle\n",
    "with open(os.path.join(MODEL_PATH,MODEL_NAME), 'wb') as m:\n",
    "    cloudpickle.dump(modelo_pipe_A1, m)"
   ]
  },
  {
   "cell_type": "markdown",
   "metadata": {},
   "source": [
    "# Bônus"
   ]
  },
  {
   "cell_type": "markdown",
   "metadata": {},
   "source": [
    "Para interpretar o modelo existem diversas técnicas. o Random Forest, modelo utilizado, nos informa o Feature Importance, porém essa é uma técnica que pode ter algum viés, principalmente quando há presença de variáveis categóricas.\n",
    "Outra técnica rica é o Permutation Importance, que avalia a importância das features medindo a queda de performance quando esta é retirada. \n",
    "Nesse trabalho irei trazer o método de shap values, que é agnóstico a modelo e é baseado na teoria dos jogos."
   ]
  },
  {
   "cell_type": "code",
   "execution_count": 60,
   "metadata": {
    "ExecuteTime": {
     "end_time": "2020-08-05T00:34:51.940673Z",
     "start_time": "2020-08-05T00:34:51.934697Z"
    }
   },
   "outputs": [],
   "source": [
    "# Lendo o modelo salvo \n",
    "import shap\n",
    "with open(os.path.join(MODEL_PATH,MODEL_NAME),'rb') as m:\n",
    "    modelo_salvo = cloudpickle.load(m)\n"
   ]
  },
  {
   "cell_type": "code",
   "execution_count": 67,
   "metadata": {},
   "outputs": [],
   "source": [
    "# Ordenando variáveis e refitando o modelo (o SHAP dá problemas, bagunçando as colunas e o plot dá errado se não fizer)\n",
    "X_A1_ = X_A1.loc[:,variaveis_categoricas_A1+variaveis_numericas_A1]\n",
    "X_A1_test_ = X_A1_test.loc[:,variaveis_categoricas_A1+variaveis_numericas_A1]"
   ]
  },
  {
   "cell_type": "code",
   "execution_count": 75,
   "metadata": {},
   "outputs": [
    {
     "data": {
      "text/plain": [
       "Pipeline(memory=None,\n",
       "         steps=[('preprocessor',\n",
       "                 ColumnTransformer(n_jobs=None, remainder='drop',\n",
       "                                   sparse_threshold=0.3,\n",
       "                                   transformer_weights=None,\n",
       "                                   transformers=[('pipe_categorico',\n",
       "                                                  Pipeline(memory=None,\n",
       "                                                           steps=[('impute',\n",
       "                                                                   SimpleImputer(add_indicator=False,\n",
       "                                                                                 copy=True,\n",
       "                                                                                 fill_value=None,\n",
       "                                                                                 missing_values=nan,\n",
       "                                                                                 strategy='most_frequent',\n",
       "                                                                                 verbose=0)),\n",
       "                                                                  ('ordinal_encoder',\n",
       "                                                                   Ordinal...\n",
       "                 RandomForestClassifier(bootstrap=True, ccp_alpha=0.0,\n",
       "                                        class_weight=None, criterion='gini',\n",
       "                                        max_depth=None, max_features='auto',\n",
       "                                        max_leaf_nodes=None, max_samples=None,\n",
       "                                        min_impurity_decrease=0.0,\n",
       "                                        min_impurity_split=None,\n",
       "                                        min_samples_leaf=1, min_samples_split=2,\n",
       "                                        min_weight_fraction_leaf=0.0,\n",
       "                                        n_estimators=100, n_jobs=None,\n",
       "                                        oob_score=False, random_state=0,\n",
       "                                        verbose=0, warm_start=False))],\n",
       "         verbose=False)"
      ]
     },
     "execution_count": 75,
     "metadata": {},
     "output_type": "execute_result"
    }
   ],
   "source": [
    "modelo_salvo.fit(X_A1_,y_A1)"
   ]
  },
  {
   "cell_type": "code",
   "execution_count": 76,
   "metadata": {},
   "outputs": [],
   "source": [
    "X_A1_test_shap = pd.DataFrame(modelo_salvo['preprocessor'].transform(X_A1_test_), columns = variaveis_categoricas_A1+variaveis_numericas_A1)\n",
    "explainer_rf = shap.TreeExplainer(modelo_salvo['model'])\n",
    "shap_values = explainer_rf.shap_values(X_A1_test_shap, check_additivity=False)\n",
    "\n",
    "\n"
   ]
  },
  {
   "cell_type": "markdown",
   "metadata": {},
   "source": [
    "O Summary Plot nos trás de cima para baixo as features mais importantes. Como esperado, a feature `EMP_Engagement_mean` é a mais importante e quando ocorrem valores maiores (vermelho) esta contribui de maneira a reduzir a probabilidade de demissão do funcionário.\n",
    "Outro ponto interessante é que fica claro que quanto mais horas de trabalho (pontos em vermelho), maior a propensão à saída da empresa (maior o shap value). Podemos destacar também a feature `Sensor_Heartbeat(Average/Min)`. No geral, quanto maior essa feature (em vermelho), maior a chance do funcionário pedir demissão. Isso é um sinal claro de que o funcionário está ansioso! \n",
    "A feature salário é uma das menos importantes. O que prova que o funcionário está mais preocupado com seu bem-estar e qualidade de vida. "
   ]
  },
  {
   "cell_type": "code",
   "execution_count": 78,
   "metadata": {},
   "outputs": [
    {
     "data": {
      "image/png": "[encoded data removed]",
      "text/plain": [
       "<Figure size 576x540 with 2 Axes>"
      ]
     },
     "metadata": {
      "needs_background": "light"
     },
     "output_type": "display_data"
    }
   ],
   "source": [
    "shap.summary_plot(shap_values[1], X_A1_test_shap)"
   ]
  },
  {
   "cell_type": "markdown",
   "metadata": {},
   "source": [
    "Este gráfico em especial pode ser obtido para cada previsão que o modelo fez. Ou seja, a nível de funcionário eu consigo saber o que levou o modelo a prever a resposta de saída. \n",
    "Nesse exemplo, vê-se que as features `EMP_Engagement_mean`, `Sensor_StepCount` e `Sensor_Heartbeat` contribuíram para reduzir a probabilidade de ele se demitir. Em contrapartida a quantidade de horas trabalhadas. `average_montly_hours` contribuiu para essa probabilidade auentar."
   ]
  },
  {
   "cell_type": "code",
   "execution_count": 83,
   "metadata": {},
   "outputs": [
    {
     "data": {
      "image/png": "[encoded data removed]",
      "text/plain": [
       "<Figure size 1440x216 with 1 Axes>"
      ]
     },
     "metadata": {
      "needs_background": "light"
     },
     "output_type": "display_data"
    }
   ],
   "source": [
    "shap.force_plot(explainer_rf.expected_value[1], shap_values[1][14,:], X_A1_test_shap.iloc[14,:], matplotlib = True)\n",
    "\n",
    "\n"
   ]
  },
  {
   "cell_type": "code",
   "execution_count": null,
   "metadata": {},
   "outputs": [],
   "source": []
  }
 ],
 "metadata": {
  "kernelspec": {
   "display_name": "Python 3",
   "language": "python",
   "name": "python3"
  },
  "language_info": {
   "codemirror_mode": {
    "name": "ipython",
    "version": 3
   },
   "file_extension": ".py",
   "mimetype": "text/x-python",
   "name": "python",
   "nbconvert_exporter": "python",
   "pygments_lexer": "ipython3",
   "version": "3.8.2"
  },
  "toc": {
   "base_numbering": 1,
   "nav_menu": {},
   "number_sections": true,
   "sideBar": true,
   "skip_h1_title": false,
   "title_cell": "Table of Contents",
   "title_sidebar": "Contents",
   "toc_cell": false,
   "toc_position": {},
   "toc_section_display": true,
   "toc_window_display": false
  },
  "varInspector": {
   "cols": {
    "lenName": 16,
    "lenType": 16,
    "lenVar": 40
   },
   "kernels_config": {
    "python": {
     "delete_cmd_postfix": "",
     "delete_cmd_prefix": "del ",
     "library": "var_list.py",
     "varRefreshCmd": "print(var_dic_list())"
    },
    "r": {
     "delete_cmd_postfix": ") ",
     "delete_cmd_prefix": "rm(",
     "library": "var_list.r",
     "varRefreshCmd": "cat(var_dic_list()) "
    }
   },
   "types_to_exclude": [
    "module",
    "function",
    "builtin_function_or_method",
    "instance",
    "_Feature"
   ],
   "window_display": false
  }
 },
 "nbformat": 4,
 "nbformat_minor": 4
}
